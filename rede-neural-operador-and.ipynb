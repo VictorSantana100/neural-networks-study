{
 "cells": [
  {
   "cell_type": "code",
   "execution_count": 6,
   "id": "f8e10214-ef9a-4866-89be-77866a05876a",
   "metadata": {
    "vscode": {
     "languageId": "python"
    }
   },
   "outputs": [],
   "source": [
    "import numpy as np"
   ]
  },
  {
   "cell_type": "code",
   "execution_count": 7,
   "id": "d10d1da2-8980-4aa0-b0b3-4604d11c75a8",
   "metadata": {},
   "outputs": [],
   "source": [
    "entradas = np.array([[0,0],[0,1], [1,0], [1,1]])\n",
    "saidas = np.array([0,0,0,1])\n",
    "\n",
    "pesos = np.array([0.0, 0.0])\n",
    "taxaAprendizagem = 0.1"
   ]
  },
  {
   "cell_type": "code",
   "execution_count": 8,
   "id": "52e06cb3-95be-47bd-b2dd-10a4cc71426a",
   "metadata": {},
   "outputs": [],
   "source": [
    "def stepFunction(soma):\n",
    "    if (soma >= 1):\n",
    "        return 1\n",
    "    return 0\n",
    "\n",
    "def calculaSaida(registro):\n",
    "    s = registro.dot(pesos)\n",
    "    return stepFunction(s)\n",
    "\n",
    "def treinar():\n",
    "    erroTotal = 1\n",
    "    while (erroTotal != 0):\n",
    "        erroTotal = 0\n",
    "        for i in range(len(saidas)):\n",
    "            saidaCalculada = calculaSaida(np.asarray(entradas[i]))\n",
    "            erro = saidas[i] - saidaCalculada\n",
    "            erroTotal += erro\n",
    "            for j in range(len(pesos)):\n",
    "                pesos[j] = pesos[j] + (taxaAprendizagem * entradas[i][j] * erro)\n",
    "                print('Peso atualizado: ' + str(pesos[j]))\n",
    "        print('Total de erros: ' + str(erroTotal))"
   ]
  },
  {
   "cell_type": "code",
   "execution_count": 9,
   "id": "d1688848-0fd3-4bf5-9116-21568351e560",
   "metadata": {},
   "outputs": [
    {
     "name": "stdout",
     "output_type": "stream",
     "text": [
      "Peso atualizado: 0.0\n",
      "Peso atualizado: 0.0\n",
      "Peso atualizado: 0.0\n",
      "Peso atualizado: 0.0\n",
      "Peso atualizado: 0.0\n",
      "Peso atualizado: 0.0\n",
      "Peso atualizado: 0.1\n",
      "Peso atualizado: 0.1\n",
      "Total de erros: 1\n",
      "Peso atualizado: 0.1\n",
      "Peso atualizado: 0.1\n",
      "Peso atualizado: 0.1\n",
      "Peso atualizado: 0.1\n",
      "Peso atualizado: 0.1\n",
      "Peso atualizado: 0.1\n",
      "Peso atualizado: 0.2\n",
      "Peso atualizado: 0.2\n",
      "Total de erros: 1\n",
      "Peso atualizado: 0.2\n",
      "Peso atualizado: 0.2\n",
      "Peso atualizado: 0.2\n",
      "Peso atualizado: 0.2\n",
      "Peso atualizado: 0.2\n",
      "Peso atualizado: 0.2\n",
      "Peso atualizado: 0.30000000000000004\n",
      "Peso atualizado: 0.30000000000000004\n",
      "Total de erros: 1\n",
      "Peso atualizado: 0.30000000000000004\n",
      "Peso atualizado: 0.30000000000000004\n",
      "Peso atualizado: 0.30000000000000004\n",
      "Peso atualizado: 0.30000000000000004\n",
      "Peso atualizado: 0.30000000000000004\n",
      "Peso atualizado: 0.30000000000000004\n",
      "Peso atualizado: 0.4\n",
      "Peso atualizado: 0.4\n",
      "Total de erros: 1\n",
      "Peso atualizado: 0.4\n",
      "Peso atualizado: 0.4\n",
      "Peso atualizado: 0.4\n",
      "Peso atualizado: 0.4\n",
      "Peso atualizado: 0.4\n",
      "Peso atualizado: 0.4\n",
      "Peso atualizado: 0.5\n",
      "Peso atualizado: 0.5\n",
      "Total de erros: 1\n",
      "Peso atualizado: 0.5\n",
      "Peso atualizado: 0.5\n",
      "Peso atualizado: 0.5\n",
      "Peso atualizado: 0.5\n",
      "Peso atualizado: 0.5\n",
      "Peso atualizado: 0.5\n",
      "Peso atualizado: 0.5\n",
      "Peso atualizado: 0.5\n",
      "Total de erros: 0\n",
      "Rede neural treinada\n",
      "0\n",
      "0\n",
      "0\n",
      "1\n"
     ]
    }
   ],
   "source": [
    "treinar()\n",
    "print('Rede neural treinada')\n",
    "print(calculaSaida(entradas[0]))\n",
    "print(calculaSaida(entradas[1]))\n",
    "print(calculaSaida(entradas[2]))\n",
    "print(calculaSaida(entradas[3]))"
   ]
  },
  {
   "cell_type": "code",
   "execution_count": null,
   "id": "d8d81cf6-bd73-4bb1-8bd5-cfbc3aca49c2",
   "metadata": {},
   "outputs": [],
   "source": []
  }
 ],
 "metadata": {
  "kernelspec": {
   "display_name": "Python 3 (ipykernel)",
   "language": "python",
   "name": "python3"
  },
  "language_info": {
   "codemirror_mode": {
    "name": "ipython",
    "version": 3
   },
   "file_extension": ".py",
   "mimetype": "text/x-python",
   "name": "python",
   "nbconvert_exporter": "python",
   "pygments_lexer": "ipython3",
   "version": "3.12.4"
  }
 },
 "nbformat": 4,
 "nbformat_minor": 5
}
